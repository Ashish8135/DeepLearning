{
 "cells": [
  {
   "cell_type": "markdown",
   "metadata": {},
   "source": [
    "# Artificial Neural Network"
   ]
  },
  {
   "cell_type": "markdown",
   "metadata": {},
   "source": [
    "# # Part 1 - Data Preprocessing"
   ]
  },
  {
   "cell_type": "code",
   "execution_count": 3,
   "metadata": {},
   "outputs": [],
   "source": [
    "# Importing the libraries\n",
    "import pandas as pd\n",
    "import matplotlib.pyplot as plt\n",
    "import numpy as np"
   ]
  },
  {
   "cell_type": "code",
   "execution_count": 4,
   "metadata": {},
   "outputs": [],
   "source": [
    "# Importing the dataset\n",
    "dataset=pd.read_csv(\"Churn_Modelling.csv\")"
   ]
  },
  {
   "cell_type": "code",
   "execution_count": 5,
   "metadata": {},
   "outputs": [
    {
     "data": {
      "text/html": [
       "<div>\n",
       "<style scoped>\n",
       "    .dataframe tbody tr th:only-of-type {\n",
       "        vertical-align: middle;\n",
       "    }\n",
       "\n",
       "    .dataframe tbody tr th {\n",
       "        vertical-align: top;\n",
       "    }\n",
       "\n",
       "    .dataframe thead th {\n",
       "        text-align: right;\n",
       "    }\n",
       "</style>\n",
       "<table border=\"1\" class=\"dataframe\">\n",
       "  <thead>\n",
       "    <tr style=\"text-align: right;\">\n",
       "      <th></th>\n",
       "      <th>RowNumber</th>\n",
       "      <th>CustomerId</th>\n",
       "      <th>Surname</th>\n",
       "      <th>CreditScore</th>\n",
       "      <th>Geography</th>\n",
       "      <th>Gender</th>\n",
       "      <th>Age</th>\n",
       "      <th>Tenure</th>\n",
       "      <th>Balance</th>\n",
       "      <th>NumOfProducts</th>\n",
       "      <th>HasCrCard</th>\n",
       "      <th>IsActiveMember</th>\n",
       "      <th>EstimatedSalary</th>\n",
       "      <th>Exited</th>\n",
       "    </tr>\n",
       "  </thead>\n",
       "  <tbody>\n",
       "    <tr>\n",
       "      <th>0</th>\n",
       "      <td>1</td>\n",
       "      <td>15634602</td>\n",
       "      <td>Hargrave</td>\n",
       "      <td>619</td>\n",
       "      <td>France</td>\n",
       "      <td>Female</td>\n",
       "      <td>42</td>\n",
       "      <td>2</td>\n",
       "      <td>0.00</td>\n",
       "      <td>1</td>\n",
       "      <td>1</td>\n",
       "      <td>1</td>\n",
       "      <td>101348.88</td>\n",
       "      <td>1</td>\n",
       "    </tr>\n",
       "    <tr>\n",
       "      <th>1</th>\n",
       "      <td>2</td>\n",
       "      <td>15647311</td>\n",
       "      <td>Hill</td>\n",
       "      <td>608</td>\n",
       "      <td>Spain</td>\n",
       "      <td>Female</td>\n",
       "      <td>41</td>\n",
       "      <td>1</td>\n",
       "      <td>83807.86</td>\n",
       "      <td>1</td>\n",
       "      <td>0</td>\n",
       "      <td>1</td>\n",
       "      <td>112542.58</td>\n",
       "      <td>0</td>\n",
       "    </tr>\n",
       "    <tr>\n",
       "      <th>2</th>\n",
       "      <td>3</td>\n",
       "      <td>15619304</td>\n",
       "      <td>Onio</td>\n",
       "      <td>502</td>\n",
       "      <td>France</td>\n",
       "      <td>Female</td>\n",
       "      <td>42</td>\n",
       "      <td>8</td>\n",
       "      <td>159660.80</td>\n",
       "      <td>3</td>\n",
       "      <td>1</td>\n",
       "      <td>0</td>\n",
       "      <td>113931.57</td>\n",
       "      <td>1</td>\n",
       "    </tr>\n",
       "    <tr>\n",
       "      <th>3</th>\n",
       "      <td>4</td>\n",
       "      <td>15701354</td>\n",
       "      <td>Boni</td>\n",
       "      <td>699</td>\n",
       "      <td>France</td>\n",
       "      <td>Female</td>\n",
       "      <td>39</td>\n",
       "      <td>1</td>\n",
       "      <td>0.00</td>\n",
       "      <td>2</td>\n",
       "      <td>0</td>\n",
       "      <td>0</td>\n",
       "      <td>93826.63</td>\n",
       "      <td>0</td>\n",
       "    </tr>\n",
       "    <tr>\n",
       "      <th>4</th>\n",
       "      <td>5</td>\n",
       "      <td>15737888</td>\n",
       "      <td>Mitchell</td>\n",
       "      <td>850</td>\n",
       "      <td>Spain</td>\n",
       "      <td>Female</td>\n",
       "      <td>43</td>\n",
       "      <td>2</td>\n",
       "      <td>125510.82</td>\n",
       "      <td>1</td>\n",
       "      <td>1</td>\n",
       "      <td>1</td>\n",
       "      <td>79084.10</td>\n",
       "      <td>0</td>\n",
       "    </tr>\n",
       "  </tbody>\n",
       "</table>\n",
       "</div>"
      ],
      "text/plain": [
       "   RowNumber  CustomerId   Surname  CreditScore Geography  Gender  Age  \\\n",
       "0          1    15634602  Hargrave          619    France  Female   42   \n",
       "1          2    15647311      Hill          608     Spain  Female   41   \n",
       "2          3    15619304      Onio          502    France  Female   42   \n",
       "3          4    15701354      Boni          699    France  Female   39   \n",
       "4          5    15737888  Mitchell          850     Spain  Female   43   \n",
       "\n",
       "   Tenure    Balance  NumOfProducts  HasCrCard  IsActiveMember  \\\n",
       "0       2       0.00              1          1               1   \n",
       "1       1   83807.86              1          0               1   \n",
       "2       8  159660.80              3          1               0   \n",
       "3       1       0.00              2          0               0   \n",
       "4       2  125510.82              1          1               1   \n",
       "\n",
       "   EstimatedSalary  Exited  \n",
       "0        101348.88       1  \n",
       "1        112542.58       0  \n",
       "2        113931.57       1  \n",
       "3         93826.63       0  \n",
       "4         79084.10       0  "
      ]
     },
     "execution_count": 5,
     "metadata": {},
     "output_type": "execute_result"
    }
   ],
   "source": [
    "dataset.head()"
   ]
  },
  {
   "cell_type": "code",
   "execution_count": 6,
   "metadata": {},
   "outputs": [],
   "source": [
    "\n",
    "x=dataset.iloc[:,3:13]\n",
    "y=dataset.iloc[:,13]"
   ]
  },
  {
   "cell_type": "code",
   "execution_count": null,
   "metadata": {},
   "outputs": [],
   "source": []
  },
  {
   "cell_type": "code",
   "execution_count": 7,
   "metadata": {},
   "outputs": [],
   "source": [
    "#Create dummy variables\n",
    "geagraphy=pd.get_dummies(x[\"Geography\"],drop_first=True)\n",
    "gender=pd.get_dummies(x[\"Gender\"],drop_first=True)"
   ]
  },
  {
   "cell_type": "code",
   "execution_count": 8,
   "metadata": {},
   "outputs": [],
   "source": [
    "## Concatenate the Data Frames\n",
    "x=pd.concat([x,geagraphy,gender],axis=1)"
   ]
  },
  {
   "cell_type": "code",
   "execution_count": 9,
   "metadata": {},
   "outputs": [],
   "source": [
    "## Drop Unnecessary columns\n",
    "x=x.drop(['Geography','Gender'],axis=1)"
   ]
  },
  {
   "cell_type": "code",
   "execution_count": 10,
   "metadata": {},
   "outputs": [
    {
     "data": {
      "text/html": [
       "<div>\n",
       "<style scoped>\n",
       "    .dataframe tbody tr th:only-of-type {\n",
       "        vertical-align: middle;\n",
       "    }\n",
       "\n",
       "    .dataframe tbody tr th {\n",
       "        vertical-align: top;\n",
       "    }\n",
       "\n",
       "    .dataframe thead th {\n",
       "        text-align: right;\n",
       "    }\n",
       "</style>\n",
       "<table border=\"1\" class=\"dataframe\">\n",
       "  <thead>\n",
       "    <tr style=\"text-align: right;\">\n",
       "      <th></th>\n",
       "      <th>CreditScore</th>\n",
       "      <th>Age</th>\n",
       "      <th>Tenure</th>\n",
       "      <th>Balance</th>\n",
       "      <th>NumOfProducts</th>\n",
       "      <th>HasCrCard</th>\n",
       "      <th>IsActiveMember</th>\n",
       "      <th>EstimatedSalary</th>\n",
       "      <th>Germany</th>\n",
       "      <th>Spain</th>\n",
       "      <th>Male</th>\n",
       "    </tr>\n",
       "  </thead>\n",
       "  <tbody>\n",
       "    <tr>\n",
       "      <th>0</th>\n",
       "      <td>619</td>\n",
       "      <td>42</td>\n",
       "      <td>2</td>\n",
       "      <td>0.00</td>\n",
       "      <td>1</td>\n",
       "      <td>1</td>\n",
       "      <td>1</td>\n",
       "      <td>101348.88</td>\n",
       "      <td>0</td>\n",
       "      <td>0</td>\n",
       "      <td>0</td>\n",
       "    </tr>\n",
       "    <tr>\n",
       "      <th>1</th>\n",
       "      <td>608</td>\n",
       "      <td>41</td>\n",
       "      <td>1</td>\n",
       "      <td>83807.86</td>\n",
       "      <td>1</td>\n",
       "      <td>0</td>\n",
       "      <td>1</td>\n",
       "      <td>112542.58</td>\n",
       "      <td>0</td>\n",
       "      <td>1</td>\n",
       "      <td>0</td>\n",
       "    </tr>\n",
       "    <tr>\n",
       "      <th>2</th>\n",
       "      <td>502</td>\n",
       "      <td>42</td>\n",
       "      <td>8</td>\n",
       "      <td>159660.80</td>\n",
       "      <td>3</td>\n",
       "      <td>1</td>\n",
       "      <td>0</td>\n",
       "      <td>113931.57</td>\n",
       "      <td>0</td>\n",
       "      <td>0</td>\n",
       "      <td>0</td>\n",
       "    </tr>\n",
       "    <tr>\n",
       "      <th>3</th>\n",
       "      <td>699</td>\n",
       "      <td>39</td>\n",
       "      <td>1</td>\n",
       "      <td>0.00</td>\n",
       "      <td>2</td>\n",
       "      <td>0</td>\n",
       "      <td>0</td>\n",
       "      <td>93826.63</td>\n",
       "      <td>0</td>\n",
       "      <td>0</td>\n",
       "      <td>0</td>\n",
       "    </tr>\n",
       "    <tr>\n",
       "      <th>4</th>\n",
       "      <td>850</td>\n",
       "      <td>43</td>\n",
       "      <td>2</td>\n",
       "      <td>125510.82</td>\n",
       "      <td>1</td>\n",
       "      <td>1</td>\n",
       "      <td>1</td>\n",
       "      <td>79084.10</td>\n",
       "      <td>0</td>\n",
       "      <td>1</td>\n",
       "      <td>0</td>\n",
       "    </tr>\n",
       "  </tbody>\n",
       "</table>\n",
       "</div>"
      ],
      "text/plain": [
       "   CreditScore  Age  Tenure    Balance  NumOfProducts  HasCrCard  \\\n",
       "0          619   42       2       0.00              1          1   \n",
       "1          608   41       1   83807.86              1          0   \n",
       "2          502   42       8  159660.80              3          1   \n",
       "3          699   39       1       0.00              2          0   \n",
       "4          850   43       2  125510.82              1          1   \n",
       "\n",
       "   IsActiveMember  EstimatedSalary  Germany  Spain  Male  \n",
       "0               1        101348.88        0      0     0  \n",
       "1               1        112542.58        0      1     0  \n",
       "2               0        113931.57        0      0     0  \n",
       "3               0         93826.63        0      0     0  \n",
       "4               1         79084.10        0      1     0  "
      ]
     },
     "execution_count": 10,
     "metadata": {},
     "output_type": "execute_result"
    }
   ],
   "source": [
    "x.head()"
   ]
  },
  {
   "cell_type": "code",
   "execution_count": 14,
   "metadata": {},
   "outputs": [],
   "source": [
    "# Splitting the dataset into the Training set and Test set\n",
    "from sklearn.model_selection import train_test_split\n",
    "X_train, X_test, y_train, y_test = train_test_split(x, y, test_size = 0.2, random_state = 0)"
   ]
  },
  {
   "cell_type": "code",
   "execution_count": 15,
   "metadata": {},
   "outputs": [],
   "source": [
    "\n",
    "# Feature Scaling\n",
    "from sklearn.preprocessing import StandardScaler\n",
    "sc = StandardScaler()\n",
    "X_train = sc.fit_transform(X_train)\n",
    "X_test = sc.transform(X_test)"
   ]
  },
  {
   "cell_type": "markdown",
   "metadata": {},
   "source": [
    "# Part 2 - Now let's make the ANN!# "
   ]
  },
  {
   "cell_type": "code",
   "execution_count": 32,
   "metadata": {},
   "outputs": [],
   "source": [
    "# Importing the Keras libraries and packages\n",
    "import keras\n",
    "from keras.models import Sequential\n",
    "from keras.layers import Dense\n",
    "from keras.layers import LeakyReLU,PReLU,ELU\n",
    "from keras.layers import Dropout\n"
   ]
  },
  {
   "cell_type": "code",
   "execution_count": 31,
   "metadata": {},
   "outputs": [],
   "source": [
    "# Initialising the ANN\n",
    "classifier = Sequential()"
   ]
  },
  {
   "cell_type": "code",
   "execution_count": 30,
   "metadata": {},
   "outputs": [],
   "source": [
    "# Adding the input layer and the first hidden layer\n",
    "classifier.add(Dense(units= 6, kernel_initializer = 'he_uniform',activation='relu',input_dim = 11))"
   ]
  },
  {
   "cell_type": "code",
   "execution_count": 19,
   "metadata": {},
   "outputs": [],
   "source": [
    "# Adding the second hidden layer\n",
    "classifier.add(Dense(units = 6, kernel_initializer= 'he_uniform',activation='relu'))"
   ]
  },
  {
   "cell_type": "code",
   "execution_count": 20,
   "metadata": {},
   "outputs": [],
   "source": [
    "# Adding the output layer\n",
    "classifier.add(Dense(units = 1, kernel_initializer = 'glorot_uniform', activation = 'sigmoid'))"
   ]
  },
  {
   "cell_type": "code",
   "execution_count": 33,
   "metadata": {},
   "outputs": [],
   "source": [
    "# Compiling the ANN\n",
    "classifier.compile(optimizer = 'Adamax', loss = 'binary_crossentropy', metrics = ['accuracy'])"
   ]
  },
  {
   "cell_type": "code",
   "execution_count": 22,
   "metadata": {},
   "outputs": [
    {
     "name": "stderr",
     "output_type": "stream",
     "text": [
      "c:\\users\\ashish\\appdata\\local\\programs\\python\\python35\\lib\\site-packages\\ipykernel_launcher.py:2: UserWarning: The `nb_epoch` argument in `fit` has been renamed `epochs`.\n",
      "  \n",
      "W0822 10:38:42.422649  4276 deprecation_wrapper.py:119] From c:\\users\\ashish\\appdata\\local\\programs\\python\\python35\\lib\\site-packages\\keras\\backend\\tensorflow_backend.py:986: The name tf.assign_add is deprecated. Please use tf.compat.v1.assign_add instead.\n",
      "\n"
     ]
    },
    {
     "name": "stdout",
     "output_type": "stream",
     "text": [
      "Train on 5359 samples, validate on 2641 samples\n",
      "Epoch 1/100\n",
      "5359/5359 [==============================] - 2s 292us/step - loss: 0.5110 - acc: 0.7962 - val_loss: 0.4863 - val_acc: 0.7955\n",
      "Epoch 2/100\n",
      "5359/5359 [==============================] - 1s 187us/step - loss: 0.4772 - acc: 0.7962 - val_loss: 0.4652 - val_acc: 0.7955\n",
      "Epoch 3/100\n",
      "5359/5359 [==============================] - 1s 190us/step - loss: 0.4593 - acc: 0.7962 - val_loss: 0.4533 - val_acc: 0.7955\n",
      "Epoch 4/100\n",
      "5359/5359 [==============================] - 1s 199us/step - loss: 0.4479 - acc: 0.7962 - val_loss: 0.4458 - val_acc: 0.7955\n",
      "Epoch 5/100\n",
      "5359/5359 [==============================] - 1s 203us/step - loss: 0.4399 - acc: 0.7962 - val_loss: 0.4411 - val_acc: 0.7955\n",
      "Epoch 6/100\n",
      "5359/5359 [==============================] - 1s 188us/step - loss: 0.4347 - acc: 0.7962 - val_loss: 0.4375 - val_acc: 0.7952\n",
      "Epoch 7/100\n",
      "5359/5359 [==============================] - 1s 190us/step - loss: 0.4308 - acc: 0.7972 - val_loss: 0.4345 - val_acc: 0.7982\n",
      "Epoch 8/100\n",
      "5359/5359 [==============================] - 1s 221us/step - loss: 0.4274 - acc: 0.8136 - val_loss: 0.4320 - val_acc: 0.8095\n",
      "Epoch 9/100\n",
      "5359/5359 [==============================] - 1s 193us/step - loss: 0.4246 - acc: 0.8168 - val_loss: 0.4300 - val_acc: 0.8148\n",
      "Epoch 10/100\n",
      "5359/5359 [==============================] - 1s 190us/step - loss: 0.4219 - acc: 0.8201 - val_loss: 0.4281 - val_acc: 0.8179\n",
      "Epoch 11/100\n",
      "5359/5359 [==============================] - 1s 207us/step - loss: 0.4193 - acc: 0.8244 - val_loss: 0.4262 - val_acc: 0.8236\n",
      "Epoch 12/100\n",
      "5359/5359 [==============================] - 1s 192us/step - loss: 0.4167 - acc: 0.8274 - val_loss: 0.4243 - val_acc: 0.8228\n",
      "Epoch 13/100\n",
      "5359/5359 [==============================] - 1s 190us/step - loss: 0.4145 - acc: 0.8261 - val_loss: 0.4225 - val_acc: 0.8236\n",
      "Epoch 14/100\n",
      "5359/5359 [==============================] - 1s 205us/step - loss: 0.4121 - acc: 0.8289 - val_loss: 0.4206 - val_acc: 0.8220\n",
      "Epoch 15/100\n",
      "5359/5359 [==============================] - 1s 221us/step - loss: 0.4101 - acc: 0.8291 - val_loss: 0.4189 - val_acc: 0.8228\n",
      "Epoch 16/100\n",
      "5359/5359 [==============================] - 1s 191us/step - loss: 0.4078 - acc: 0.8298 - val_loss: 0.4172 - val_acc: 0.8239\n",
      "Epoch 17/100\n",
      "5359/5359 [==============================] - 1s 192us/step - loss: 0.4059 - acc: 0.8313 - val_loss: 0.4154 - val_acc: 0.8243\n",
      "Epoch 18/100\n",
      "5359/5359 [==============================] - 1s 196us/step - loss: 0.4037 - acc: 0.8324 - val_loss: 0.4147 - val_acc: 0.8247\n",
      "Epoch 19/100\n",
      "5359/5359 [==============================] - 1s 206us/step - loss: 0.4022 - acc: 0.8313 - val_loss: 0.4119 - val_acc: 0.8251\n",
      "Epoch 20/100\n",
      "5359/5359 [==============================] - 1s 225us/step - loss: 0.3997 - acc: 0.8324 - val_loss: 0.4094 - val_acc: 0.8281\n",
      "Epoch 21/100\n",
      "5359/5359 [==============================] - 1s 200us/step - loss: 0.3974 - acc: 0.8322 - val_loss: 0.4074 - val_acc: 0.8262\n",
      "Epoch 22/100\n",
      "5359/5359 [==============================] - 1s 200us/step - loss: 0.3949 - acc: 0.8334 - val_loss: 0.4047 - val_acc: 0.8251\n",
      "Epoch 23/100\n",
      "5359/5359 [==============================] - 1s 201us/step - loss: 0.3926 - acc: 0.8336 - val_loss: 0.4027 - val_acc: 0.8266\n",
      "Epoch 24/100\n",
      "5359/5359 [==============================] - 1s 207us/step - loss: 0.3901 - acc: 0.8334 - val_loss: 0.4007 - val_acc: 0.8270\n",
      "Epoch 25/100\n",
      "5359/5359 [==============================] - 1s 201us/step - loss: 0.3878 - acc: 0.8324 - val_loss: 0.3984 - val_acc: 0.8277\n",
      "Epoch 26/100\n",
      "5359/5359 [==============================] - 1s 236us/step - loss: 0.3855 - acc: 0.8341 - val_loss: 0.3965 - val_acc: 0.8266\n",
      "Epoch 27/100\n",
      "5359/5359 [==============================] - 1s 197us/step - loss: 0.3831 - acc: 0.8326 - val_loss: 0.3945 - val_acc: 0.8254\n",
      "Epoch 28/100\n",
      "5359/5359 [==============================] - 1s 200us/step - loss: 0.3804 - acc: 0.8336 - val_loss: 0.3924 - val_acc: 0.8266\n",
      "Epoch 29/100\n",
      "5359/5359 [==============================] - 1s 199us/step - loss: 0.3779 - acc: 0.8347 - val_loss: 0.3912 - val_acc: 0.8277\n",
      "Epoch 30/100\n",
      "5359/5359 [==============================] - 1s 201us/step - loss: 0.3760 - acc: 0.8341 - val_loss: 0.3892 - val_acc: 0.8292\n",
      "Epoch 31/100\n",
      "5359/5359 [==============================] - 1s 227us/step - loss: 0.3738 - acc: 0.8347 - val_loss: 0.3881 - val_acc: 0.8281\n",
      "Epoch 32/100\n",
      "5359/5359 [==============================] - 1s 197us/step - loss: 0.3720 - acc: 0.8352 - val_loss: 0.3867 - val_acc: 0.8292\n",
      "Epoch 33/100\n",
      "5359/5359 [==============================] - 1s 199us/step - loss: 0.3705 - acc: 0.8365 - val_loss: 0.3849 - val_acc: 0.8304\n",
      "Epoch 34/100\n",
      "5359/5359 [==============================] - 1s 193us/step - loss: 0.3688 - acc: 0.8391 - val_loss: 0.3839 - val_acc: 0.8360\n",
      "Epoch 35/100\n",
      "5359/5359 [==============================] - 1s 198us/step - loss: 0.3672 - acc: 0.8434 - val_loss: 0.3837 - val_acc: 0.8360\n",
      "Epoch 36/100\n",
      "5359/5359 [==============================] - 1s 200us/step - loss: 0.3661 - acc: 0.8442 - val_loss: 0.3822 - val_acc: 0.8353\n",
      "Epoch 37/100\n",
      "5359/5359 [==============================] - 1s 222us/step - loss: 0.3649 - acc: 0.8434 - val_loss: 0.3823 - val_acc: 0.8357\n",
      "Epoch 38/100\n",
      "5359/5359 [==============================] - 1s 226us/step - loss: 0.3640 - acc: 0.8461 - val_loss: 0.3803 - val_acc: 0.8372\n",
      "Epoch 39/100\n",
      "5359/5359 [==============================] - 1s 203us/step - loss: 0.3627 - acc: 0.8461 - val_loss: 0.3796 - val_acc: 0.8398\n",
      "Epoch 40/100\n",
      "5359/5359 [==============================] - 1s 238us/step - loss: 0.3615 - acc: 0.8451 - val_loss: 0.3788 - val_acc: 0.8391\n",
      "Epoch 41/100\n",
      "5359/5359 [==============================] - 1s 191us/step - loss: 0.3609 - acc: 0.8464 - val_loss: 0.3781 - val_acc: 0.8379\n",
      "Epoch 42/100\n",
      "5359/5359 [==============================] - 1s 198us/step - loss: 0.3599 - acc: 0.8481 - val_loss: 0.3773 - val_acc: 0.8379\n",
      "Epoch 43/100\n",
      "5359/5359 [==============================] - 1s 196us/step - loss: 0.3591 - acc: 0.8490 - val_loss: 0.3772 - val_acc: 0.8395\n",
      "Epoch 44/100\n",
      "5359/5359 [==============================] - 1s 200us/step - loss: 0.3581 - acc: 0.8485 - val_loss: 0.3757 - val_acc: 0.8398\n",
      "Epoch 45/100\n",
      "5359/5359 [==============================] - 1s 203us/step - loss: 0.3576 - acc: 0.8496 - val_loss: 0.3766 - val_acc: 0.8387\n",
      "Epoch 46/100\n",
      "5359/5359 [==============================] - 1s 205us/step - loss: 0.3565 - acc: 0.8513 - val_loss: 0.3739 - val_acc: 0.8444\n",
      "Epoch 47/100\n",
      "5359/5359 [==============================] - 1s 226us/step - loss: 0.3558 - acc: 0.8507 - val_loss: 0.3732 - val_acc: 0.8436\n",
      "Epoch 48/100\n",
      "5359/5359 [==============================] - 1s 236us/step - loss: 0.3548 - acc: 0.8517 - val_loss: 0.3732 - val_acc: 0.8432\n",
      "Epoch 49/100\n",
      "5359/5359 [==============================] - 1s 207us/step - loss: 0.3537 - acc: 0.8533 - val_loss: 0.3727 - val_acc: 0.8444\n",
      "Epoch 50/100\n",
      "5359/5359 [==============================] - 1s 244us/step - loss: 0.3534 - acc: 0.8546 - val_loss: 0.3718 - val_acc: 0.8463\n",
      "Epoch 51/100\n",
      "5359/5359 [==============================] - 2s 301us/step - loss: 0.3523 - acc: 0.8522 - val_loss: 0.3716 - val_acc: 0.8448\n",
      "Epoch 52/100\n",
      "5359/5359 [==============================] - 2s 315us/step - loss: 0.3519 - acc: 0.8535 - val_loss: 0.3712 - val_acc: 0.8451\n",
      "Epoch 53/100\n",
      "5359/5359 [==============================] - 1s 232us/step - loss: 0.3509 - acc: 0.8569 - val_loss: 0.3703 - val_acc: 0.8451\n",
      "Epoch 54/100\n",
      "5359/5359 [==============================] - 1s 224us/step - loss: 0.3506 - acc: 0.8546 - val_loss: 0.3695 - val_acc: 0.8474\n",
      "Epoch 55/100\n",
      "5359/5359 [==============================] - 1s 227us/step - loss: 0.3496 - acc: 0.8558 - val_loss: 0.3700 - val_acc: 0.8451\n",
      "Epoch 56/100\n",
      "5359/5359 [==============================] - 1s 237us/step - loss: 0.3496 - acc: 0.8589 - val_loss: 0.3682 - val_acc: 0.8478\n",
      "Epoch 57/100\n",
      "5359/5359 [==============================] - 2s 331us/step - loss: 0.3488 - acc: 0.8569 - val_loss: 0.3675 - val_acc: 0.8497\n",
      "Epoch 58/100\n",
      "5359/5359 [==============================] - 2s 373us/step - loss: 0.3480 - acc: 0.8569 - val_loss: 0.3675 - val_acc: 0.8504\n",
      "Epoch 59/100\n",
      "5359/5359 [==============================] - 1s 199us/step - loss: 0.3470 - acc: 0.8589 - val_loss: 0.3663 - val_acc: 0.8520\n",
      "Epoch 60/100\n"
     ]
    },
    {
     "name": "stdout",
     "output_type": "stream",
     "text": [
      "5359/5359 [==============================] - 1s 187us/step - loss: 0.3468 - acc: 0.8584 - val_loss: 0.3658 - val_acc: 0.8520\n",
      "Epoch 61/100\n",
      "5359/5359 [==============================] - 1s 245us/step - loss: 0.3458 - acc: 0.8597 - val_loss: 0.3673 - val_acc: 0.8489\n",
      "Epoch 62/100\n",
      "5359/5359 [==============================] - 1s 257us/step - loss: 0.3451 - acc: 0.8580 - val_loss: 0.3652 - val_acc: 0.8535\n",
      "Epoch 63/100\n",
      "5359/5359 [==============================] - 1s 175us/step - loss: 0.3446 - acc: 0.8612 - val_loss: 0.3645 - val_acc: 0.8538\n",
      "Epoch 64/100\n",
      "5359/5359 [==============================] - 1s 202us/step - loss: 0.3443 - acc: 0.8602 - val_loss: 0.3635 - val_acc: 0.8546\n",
      "Epoch 65/100\n",
      "5359/5359 [==============================] - 1s 228us/step - loss: 0.3434 - acc: 0.8587 - val_loss: 0.3645 - val_acc: 0.8520\n",
      "Epoch 66/100\n",
      "5359/5359 [==============================] - 1s 272us/step - loss: 0.3428 - acc: 0.8608 - val_loss: 0.3632 - val_acc: 0.8573\n",
      "Epoch 67/100\n",
      "5359/5359 [==============================] - 2s 287us/step - loss: 0.3424 - acc: 0.8615 - val_loss: 0.3619 - val_acc: 0.8557\n",
      "Epoch 68/100\n",
      "5359/5359 [==============================] - 2s 375us/step - loss: 0.3416 - acc: 0.8617 - val_loss: 0.3626 - val_acc: 0.8535\n",
      "Epoch 69/100\n",
      "5359/5359 [==============================] - 1s 230us/step - loss: 0.3414 - acc: 0.8615 - val_loss: 0.3613 - val_acc: 0.8561\n",
      "Epoch 70/100\n",
      "5359/5359 [==============================] - 1s 191us/step - loss: 0.3409 - acc: 0.8610 - val_loss: 0.3604 - val_acc: 0.8580\n",
      "Epoch 71/100\n",
      "5359/5359 [==============================] - 1s 185us/step - loss: 0.3403 - acc: 0.8623 - val_loss: 0.3604 - val_acc: 0.8561\n",
      "Epoch 72/100\n",
      "5359/5359 [==============================] - 1s 180us/step - loss: 0.3397 - acc: 0.8625 - val_loss: 0.3595 - val_acc: 0.8565\n",
      "Epoch 73/100\n",
      "5359/5359 [==============================] - 1s 185us/step - loss: 0.3399 - acc: 0.8608 - val_loss: 0.3588 - val_acc: 0.8599\n",
      "Epoch 74/100\n",
      "5359/5359 [==============================] - 1s 265us/step - loss: 0.3390 - acc: 0.8625 - val_loss: 0.3587 - val_acc: 0.8580\n",
      "Epoch 75/100\n",
      "5359/5359 [==============================] - 2s 281us/step - loss: 0.3385 - acc: 0.8619 - val_loss: 0.3580 - val_acc: 0.8614\n",
      "Epoch 76/100\n",
      "5359/5359 [==============================] - 1s 197us/step - loss: 0.3388 - acc: 0.8623 - val_loss: 0.3585 - val_acc: 0.8573\n",
      "Epoch 77/100\n",
      "5359/5359 [==============================] - 1s 179us/step - loss: 0.3379 - acc: 0.8634 - val_loss: 0.3582 - val_acc: 0.8573\n",
      "Epoch 78/100\n",
      "5359/5359 [==============================] - 1s 175us/step - loss: 0.3376 - acc: 0.8627 - val_loss: 0.3589 - val_acc: 0.8584\n",
      "Epoch 79/100\n",
      "5359/5359 [==============================] - 1s 174us/step - loss: 0.3378 - acc: 0.8621 - val_loss: 0.3578 - val_acc: 0.8599\n",
      "Epoch 80/100\n",
      "5359/5359 [==============================] - 1s 186us/step - loss: 0.3370 - acc: 0.8630 - val_loss: 0.3570 - val_acc: 0.8580\n",
      "Epoch 81/100\n",
      "5359/5359 [==============================] - 1s 187us/step - loss: 0.3369 - acc: 0.8632 - val_loss: 0.3570 - val_acc: 0.8599\n",
      "Epoch 82/100\n",
      "5359/5359 [==============================] - 1s 187us/step - loss: 0.3365 - acc: 0.8627 - val_loss: 0.3574 - val_acc: 0.8595\n",
      "Epoch 83/100\n",
      "5359/5359 [==============================] - 1s 170us/step - loss: 0.3360 - acc: 0.8623 - val_loss: 0.3573 - val_acc: 0.8565\n",
      "Epoch 84/100\n",
      "5359/5359 [==============================] - 1s 176us/step - loss: 0.3362 - acc: 0.8625 - val_loss: 0.3572 - val_acc: 0.8580\n",
      "Epoch 85/100\n",
      "5359/5359 [==============================] - 1s 175us/step - loss: 0.3356 - acc: 0.8623 - val_loss: 0.3565 - val_acc: 0.8595\n",
      "Epoch 86/100\n",
      "5359/5359 [==============================] - 1s 180us/step - loss: 0.3355 - acc: 0.8655 - val_loss: 0.3560 - val_acc: 0.8576\n",
      "Epoch 87/100\n",
      "5359/5359 [==============================] - 1s 224us/step - loss: 0.3354 - acc: 0.8628 - val_loss: 0.3554 - val_acc: 0.8603\n",
      "Epoch 88/100\n",
      "5359/5359 [==============================] - 1s 225us/step - loss: 0.3351 - acc: 0.8634 - val_loss: 0.3549 - val_acc: 0.8584\n",
      "Epoch 89/100\n",
      "5359/5359 [==============================] - 1s 214us/step - loss: 0.3348 - acc: 0.8623 - val_loss: 0.3547 - val_acc: 0.8591\n",
      "Epoch 90/100\n",
      "5359/5359 [==============================] - 1s 184us/step - loss: 0.3346 - acc: 0.8636 - val_loss: 0.3534 - val_acc: 0.8599\n",
      "Epoch 91/100\n",
      "5359/5359 [==============================] - 1s 215us/step - loss: 0.3340 - acc: 0.8625 - val_loss: 0.3558 - val_acc: 0.8599\n",
      "Epoch 92/100\n",
      "5359/5359 [==============================] - 1s 247us/step - loss: 0.3341 - acc: 0.8645 - val_loss: 0.3551 - val_acc: 0.8580\n",
      "Epoch 93/100\n",
      "5359/5359 [==============================] - 1s 168us/step - loss: 0.3343 - acc: 0.8634 - val_loss: 0.3536 - val_acc: 0.8584\n",
      "Epoch 94/100\n",
      "5359/5359 [==============================] - 1s 169us/step - loss: 0.3340 - acc: 0.8632 - val_loss: 0.3539 - val_acc: 0.8614\n",
      "Epoch 95/100\n",
      "5359/5359 [==============================] - 1s 164us/step - loss: 0.3332 - acc: 0.8640 - val_loss: 0.3538 - val_acc: 0.8603\n",
      "Epoch 96/100\n",
      "5359/5359 [==============================] - 1s 195us/step - loss: 0.3338 - acc: 0.8625 - val_loss: 0.3537 - val_acc: 0.8595\n",
      "Epoch 97/100\n",
      "5359/5359 [==============================] - 1s 208us/step - loss: 0.3336 - acc: 0.8634 - val_loss: 0.3533 - val_acc: 0.8595\n",
      "Epoch 98/100\n",
      "5359/5359 [==============================] - 1s 270us/step - loss: 0.3333 - acc: 0.8621 - val_loss: 0.3544 - val_acc: 0.8584\n",
      "Epoch 99/100\n",
      "5359/5359 [==============================] - 1s 210us/step - loss: 0.3333 - acc: 0.8634 - val_loss: 0.3538 - val_acc: 0.8591\n",
      "Epoch 100/100\n",
      "5359/5359 [==============================] - 1s 235us/step - loss: 0.3334 - acc: 0.8649 - val_loss: 0.3527 - val_acc: 0.8561\n"
     ]
    }
   ],
   "source": [
    "# Fitting the ANN to the Training set\n",
    "model_history=classifier.fit(X_train, y_train,validation_split=0.33, batch_size = 10, nb_epoch = 100)"
   ]
  },
  {
   "cell_type": "code",
   "execution_count": 23,
   "metadata": {},
   "outputs": [
    {
     "name": "stdout",
     "output_type": "stream",
     "text": [
      "dict_keys(['acc', 'val_loss', 'val_acc', 'loss'])\n"
     ]
    },
    {
     "data": {
      "image/png": "[encoded data removed]",
      "text/plain": [
       "<Figure size 432x288 with 1 Axes>"
      ]
     },
     "metadata": {
      "needs_background": "light"
     },
     "output_type": "display_data"
    }
   ],
   "source": [
    "\n",
    "# list all data in history\n",
    "\n",
    "print(model_history.history.keys())\n",
    "# summarize history for accuracy\n",
    "plt.plot(model_history.history['acc'])\n",
    "plt.plot(model_history.history['val_acc'])\n",
    "plt.title('model accuracy')\n",
    "plt.ylabel('accuracy')\n",
    "plt.xlabel('epoch')\n",
    "plt.legend(['train', 'test'], loc='upper left')\n",
    "plt.show()\n"
   ]
  },
  {
   "cell_type": "code",
   "execution_count": 24,
   "metadata": {},
   "outputs": [
    {
     "data": {
      "image/png": "[encoded data removed]",
      "text/plain": [
       "<Figure size 432x288 with 1 Axes>"
      ]
     },
     "metadata": {
      "needs_background": "light"
     },
     "output_type": "display_data"
    }
   ],
   "source": [
    "\n",
    "# summarize history for loss\n",
    "plt.plot(model_history.history['loss'])\n",
    "plt.plot(model_history.history['val_loss'])\n",
    "plt.title('model loss')\n",
    "plt.ylabel('loss')\n",
    "plt.xlabel('epoch')\n",
    "plt.legend(['train', 'test'], loc='upper left')\n",
    "plt.show()"
   ]
  },
  {
   "cell_type": "markdown",
   "metadata": {},
   "source": [
    "# Part 3 - Making the predictions and evaluating the model\n",
    "# "
   ]
  },
  {
   "cell_type": "code",
   "execution_count": 25,
   "metadata": {},
   "outputs": [],
   "source": [
    "# Predicting the Test set results\n",
    "y_pred = classifier.predict(X_test)\n",
    "y_pred = (y_pred > 0.5)"
   ]
  },
  {
   "cell_type": "code",
   "execution_count": 29,
   "metadata": {},
   "outputs": [
    {
     "data": {
      "text/plain": [
       "array([[1515,   80],\n",
       "       [ 201,  204]], dtype=int64)"
      ]
     },
     "execution_count": 29,
     "metadata": {},
     "output_type": "execute_result"
    }
   ],
   "source": [
    "# Making the Confusion Matrix\n",
    "from sklearn.metrics import confusion_matrix\n",
    "cm = confusion_matrix(y_test, y_pred)\n",
    "cm"
   ]
  },
  {
   "cell_type": "code",
   "execution_count": 27,
   "metadata": {},
   "outputs": [],
   "source": [
    "# Calculate the Accuracy\n",
    "from sklearn.metrics import accuracy_score\n",
    "score=accuracy_score(y_pred,y_test)"
   ]
  },
  {
   "cell_type": "code",
   "execution_count": 28,
   "metadata": {},
   "outputs": [
    {
     "data": {
      "text/plain": [
       "0.8595"
      ]
     },
     "execution_count": 28,
     "metadata": {},
     "output_type": "execute_result"
    }
   ],
   "source": [
    "score"
   ]
  },
  {
   "cell_type": "markdown",
   "metadata": {},
   "source": [
    "## Perform Hyperparameter Optimization# "
   ]
  },
  {
   "cell_type": "code",
   "execution_count": 34,
   "metadata": {},
   "outputs": [],
   "source": [
    "from keras.wrappers.scikit_learn import KerasClassifier\n",
    "from sklearn.model_selection import GridSearchCV\n",
    "\n",
    "from keras.models import Sequential\n",
    "from keras.layers import Dense, Activation, Embedding, Flatten, LeakyReLU, BatchNormalization, Dropout\n",
    "from keras.activations import relu, sigmoid"
   ]
  },
  {
   "cell_type": "code",
   "execution_count": 35,
   "metadata": {},
   "outputs": [],
   "source": [
    "def create_model(layers, activation):\n",
    "    model = Sequential()\n",
    "    for i, nodes in enumerate(layers):\n",
    "        if i==0:\n",
    "            model.add(Dense(nodes,input_dim=X_train.shape[1]))\n",
    "            model.add(Activation(activation))\n",
    "            model.add(Dropout(0.3))\n",
    "        else:\n",
    "            model.add(Dense(nodes))\n",
    "            model.add(Activation(activation))\n",
    "            model.add(Dropout(0.3))\n",
    "            \n",
    "    model.add(Dense(units = 1, kernel_initializer= 'glorot_uniform', activation = 'sigmoid')) # Note: no activation beyond this point\n",
    "    \n",
    "    model.compile(optimizer='adam', loss='binary_crossentropy',metrics=['accuracy'])\n",
    "    return model\n",
    "    \n",
    "model = KerasClassifier(build_fn=create_model, verbose=0)\n"
   ]
  },
  {
   "cell_type": "code",
   "execution_count": null,
   "metadata": {},
   "outputs": [],
   "source": [
    "\n",
    "layers = [[20], [40, 20], [45, 30, 15]]\n",
    "activations = ['sigmoid', 'relu']\n",
    "param_grid = dict(layers=layers, activation=activations, batch_size = [128, 256], epochs=[30])\n",
    "grid = GridSearchCV(estimator=model, param_grid=param_grid,cv=5)\n",
    "\n",
    "grid_result = grid.fit(X_train, y_train)\n",
    "\n",
    "[grid_result.best_score_,grid_result.best_params_]\n"
   ]
  },
  {
   "cell_type": "code",
   "execution_count": null,
   "metadata": {},
   "outputs": [],
   "source": []
  }
 ],
 "metadata": {
  "kernelspec": {
   "display_name": "Python 3",
   "language": "python",
   "name": "python3"
  },
  "language_info": {
   "codemirror_mode": {
    "name": "ipython",
    "version": 3
   },
   "file_extension": ".py",
   "mimetype": "text/x-python",
   "name": "python",
   "nbconvert_exporter": "python",
   "pygments_lexer": "ipython3",
   "version": "3.5.3"
  }
 },
 "nbformat": 4,
 "nbformat_minor": 2
}
